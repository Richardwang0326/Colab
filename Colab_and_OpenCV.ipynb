{
  "nbformat": 4,
  "nbformat_minor": 0,
  "metadata": {
    "colab": {
      "name": "Colab_and_OpenCV.ipynb",
      "provenance": [],
      "private_outputs": true,
      "collapsed_sections": [],
      "toc_visible": true,
      "include_colab_link": true
    },
    "kernelspec": {
      "name": "python3",
      "display_name": "Python 3"
    },
    "accelerator": "GPU"
  },
  "cells": [
    {
      "cell_type": "markdown",
      "metadata": {
        "id": "view-in-github",
        "colab_type": "text"
      },
      "source": [
        "<a href=\"https://colab.research.google.com/github/Richardwang0326/Colab/blob/master/Colab_and_OpenCV.ipynb\" target=\"_parent\"><img src=\"https://colab.research.google.com/assets/colab-badge.svg\" alt=\"Open In Colab\"/></a>"
      ]
    },
    {
      "cell_type": "markdown",
      "metadata": {
        "id": "cH3YUEM_48le",
        "colab_type": "text"
      },
      "source": [
        "# Introduction to Colab"
      ]
    },
    {
      "cell_type": "markdown",
      "metadata": {
        "id": "3kBAjCvY5EPP",
        "colab_type": "text"
      },
      "source": [
        "The objective of this tutorial is to introduce  useful commands and examples for OpenCV in Colab.\n",
        "Colab is a Python development environment like jupyter notebook, it can run in the browser using Google Cloud.\n"
      ]
    },
    {
      "cell_type": "markdown",
      "metadata": {
        "id": "930QATX_0-gj",
        "colab_type": "text"
      },
      "source": [
        "## Cells\n",
        "A notebook is a list of cells. Cells contain either explanatory text or executable code and its output. Click a cell to select it."
      ]
    },
    {
      "cell_type": "markdown",
      "metadata": {
        "id": "Xs1Zu3kI0hn-",
        "colab_type": "text"
      },
      "source": [
        "## Code cells\n",
        "Below is a **code cell**. Once the toolbar button indicates CONNECTED, click in the cell to select it and execute the contents in the following ways:\n",
        "\n",
        "* Click the **Play icon** in the left gutter of the cell;\n",
        "* Type **Cmd/Ctrl+Enter** to run the cell in place;\n",
        "* Type **Shift+Enter** to run the cell and move focus to the next cell (adding one if none exists); or\n",
        "* Type **Alt+Enter** to run the cell and insert a new code cell immediately below it.\n",
        "\n",
        "There are additional options for running some or all cells in the **Runtime** menu.\n"
      ]
    },
    {
      "cell_type": "markdown",
      "metadata": {
        "id": "4deuOe2_1gWx",
        "colab_type": "text"
      },
      "source": [
        "## Colab Specifics"
      ]
    },
    {
      "cell_type": "markdown",
      "metadata": {
        "id": "peVlX9Iw1ihu",
        "colab_type": "text"
      },
      "source": [
        "Colab is a virtual machine you can access directly. To run commands at the VM's terminal, prefix the line with an exclamation point (!)."
      ]
    },
    {
      "cell_type": "code",
      "metadata": {
        "id": "elvD1LtO0dF4",
        "colab_type": "code",
        "colab": {}
      },
      "source": [
        "!python -V"
      ],
      "execution_count": null,
      "outputs": []
    },
    {
      "cell_type": "code",
      "metadata": {
        "id": "to8Vtciz1wRN",
        "colab_type": "code",
        "colab": {}
      },
      "source": [
        "!nvidia-smi"
      ],
      "execution_count": null,
      "outputs": []
    },
    {
      "cell_type": "code",
      "metadata": {
        "id": "sfjRROBB2L5X",
        "colab_type": "code",
        "colab": {}
      },
      "source": [
        "!pip install numpy"
      ],
      "execution_count": null,
      "outputs": []
    },
    {
      "cell_type": "markdown",
      "metadata": {
        "id": "Z8Tyo9rbpuNj",
        "colab_type": "text"
      },
      "source": [
        "# Basic function with OpenCV"
      ]
    },
    {
      "cell_type": "code",
      "metadata": {
        "id": "HIg02vHpM1B9",
        "colab_type": "code",
        "colab": {}
      },
      "source": [
        "# related library\n",
        "import cv2 \n",
        "import numpy as np\n",
        "from google.colab.patches import cv2_imshow\n",
        "# upload folder from google drive\n",
        "from google.colab import drive\n",
        "drive.mount('/content/drive')"
      ],
      "execution_count": null,
      "outputs": []
    },
    {
      "cell_type": "markdown",
      "metadata": {
        "id": "-sm3Sjf78RmH",
        "colab_type": "text"
      },
      "source": [
        "### 1.load picture"
      ]
    },
    {
      "cell_type": "code",
      "metadata": {
        "id": "zbjJmeIo7wwh",
        "colab_type": "code",
        "colab": {}
      },
      "source": [
        "img = cv2.imread('/content/drive/My Drive/opencv_photo/cat.jpg')"
      ],
      "execution_count": null,
      "outputs": []
    },
    {
      "cell_type": "markdown",
      "metadata": {
        "id": "e3KRFbAK8qOm",
        "colab_type": "text"
      },
      "source": [
        "### 2.Show image"
      ]
    },
    {
      "cell_type": "code",
      "metadata": {
        "id": "fNOm9X7h72dA",
        "colab_type": "code",
        "colab": {}
      },
      "source": [
        "cv2_imshow(img)"
      ],
      "execution_count": null,
      "outputs": []
    },
    {
      "cell_type": "markdown",
      "metadata": {
        "id": "SaKcGvqx9rME",
        "colab_type": "text"
      },
      "source": [
        "### 3.Convert image to grayscale\n"
      ]
    },
    {
      "cell_type": "code",
      "metadata": {
        "id": "pJR3ZThY9wcC",
        "colab_type": "code",
        "colab": {}
      },
      "source": [
        "gray = cv2.cvtColor(img,cv2.COLOR_BGR2GRAY)\n",
        "cv2_imshow(gray)"
      ],
      "execution_count": null,
      "outputs": []
    },
    {
      "cell_type": "markdown",
      "metadata": {
        "id": "_5ydIJoe-YZE",
        "colab_type": "text"
      },
      "source": [
        "### 4.Filter"
      ]
    },
    {
      "cell_type": "code",
      "metadata": {
        "id": "4DOWMYGdOEej",
        "colab_type": "code",
        "colab": {}
      },
      "source": [
        "img = cv2.imread('/content/drive/My Drive/opencv_photo/exercise.jpg')\n",
        "cv2_imshow(img)"
      ],
      "execution_count": null,
      "outputs": []
    },
    {
      "cell_type": "markdown",
      "metadata": {
        "id": "6TfvmUMPHowe",
        "colab_type": "text"
      },
      "source": [
        "cv2.inRange()：​If the pixel which rgb or hsv values  between  the lower and upper ,then convert this pixel’s rgb to 255 255 255,else convert to 0 0 0."
      ]
    },
    {
      "cell_type": "code",
      "metadata": {
        "id": "UQi2o8Hlh8eX",
        "colab_type": "code",
        "colab": {}
      },
      "source": [
        "hsv = cv2.cvtColor(img, cv2.COLOR_BGR2HSV)\n",
        "\n",
        "# red\n",
        "lower = np.array([0, 50, 50])\n",
        "upper = np.array([180, 255, 255])\n",
        "mask= cv2.inRange(hsv,lower,upper)\n",
        "\n",
        "mask_result = cv2.bitwise_and (img, img, mask=mask)\n",
        "cv2_imshow(mask_result)"
      ],
      "execution_count": null,
      "outputs": []
    },
    {
      "cell_type": "markdown",
      "metadata": {
        "id": "7_aU2EcgTBd8",
        "colab_type": "text"
      },
      "source": [
        "### 5.Find and draw contours"
      ]
    },
    {
      "cell_type": "markdown",
      "metadata": {
        "id": "xtwIq4GTlBVJ",
        "colab_type": "text"
      },
      "source": [
        "cv2.findContours(), the first argument is binary image that you want to find its contours, that is, black and white (not a grayscale image).\n",
        "\n",
        "The second argument indicates the contour retrieval mode, like cv2.RETR_EXTERNAL, cv2.RETR_LIST, cv2.RETR_CCOMP, cv2.RETR_TREE. \n",
        "\n",
        "The final parameter is the approximate method of contour, such as cv2.CHAIN_APPROX_NONE, cv2.CHAIN_APPROX_SIMPLE, cv2.CHAIN_APPROX_TC89_L1, CV_CHAIN_APPROX_TC89_KCOS.\n",
        "\n",
        "The cv2.findContours() function returns two values, one is the contour itself, and the other is the attribute corresponding to each contour.\n",
        "\n",
        "cv2.drawContours(), the first is to specify which image to draw the outline on.\n",
        "\n",
        "The second argument is the contour itself, which stored a list in Python.\n",
        "\n",
        "The third parameter specifies which contour in the contour list to draw, if it is -1, draw all contours in it.\n",
        "\n",
        "The fourth parameter is color of the contours.\n",
        "\n",
        "The last argument is thickness of the contours.\n"
      ]
    },
    {
      "cell_type": "code",
      "metadata": {
        "id": "AMy10xu5jGpP",
        "colab_type": "code",
        "colab": {}
      },
      "source": [
        "( contours,_) = cv2.findContours(mask, cv2.RETR_TREE, cv2.CHAIN_APPROX_NONE)\n",
        "cv2.drawContours(img,contours,-1,(0,255,0),10)\n",
        "\n",
        "cv2_imshow(img)"
      ],
      "execution_count": null,
      "outputs": []
    },
    {
      "cell_type": "markdown",
      "metadata": {
        "id": "ixjm8uCoS-wo",
        "colab_type": "text"
      },
      "source": [
        "### 6.Shape dection"
      ]
    },
    {
      "cell_type": "markdown",
      "metadata": {
        "id": "qrs-QfCUgakt",
        "colab_type": "text"
      },
      "source": [
        "cv2.approxPolyDP(), the first argument is input point set.\n",
        "\n",
        "The second argument is the specified precision, that is, the maximum distance between the original curve and the approximate curve.\n",
        "\n",
        "The final argument means that whether the approximate curve is closed or not.\n",
        "\n",
        "The output is approximated result.\n",
        "\n",
        "cv2.putText(), the argument is which picture you want to put text, the text, its position, font format, size of font, color of font and thickness of font."
      ]
    },
    {
      "cell_type": "code",
      "metadata": {
        "id": "dyxM9jXEjnKA",
        "colab_type": "code",
        "colab": {}
      },
      "source": [
        "for cnt in contours:\n",
        "\n",
        "  epsilon = 0.04 * cv2.arcLength(cnt, True)\n",
        "  app = cv2.approxPolyDP(cnt, epsilon, True)\n",
        "\n",
        "  if(len(app) == 3):\n",
        "    obj_shape = \"triangle\"\n",
        "  elif(len(app) == 4):\n",
        "    obj_shape = \"square\"\n",
        "  else:\n",
        "    obj_shape = \"circle\"\n",
        "\n",
        "  font = cv2.FONT_HERSHEY_SIMPLEX\n",
        "  x_str, y_str = app[0][0]\n",
        "  if obj_shape == \"triangle\":\n",
        "    cv2.putText(img, obj_shape, (x_str, y_str), font, 5,\n",
        "                        (0, 0, 0), 2)\n",
        "  elif obj_shape == \"square\":\n",
        "    cv2.putText(img, obj_shape, (x_str, y_str), font, 5,\n",
        "                        (0, 0, 0), 2)\n",
        "  elif obj_shape == \"circle\":\n",
        "    cv2.putText(img, obj_shape, (x_str, y_str), font, 5,\n",
        "                        (0, 0, 0), 2)\n",
        "cv2_imshow(img)"
      ],
      "execution_count": null,
      "outputs": []
    },
    {
      "cell_type": "markdown",
      "metadata": {
        "id": "Dypy6xCkM1h1",
        "colab_type": "text"
      },
      "source": [
        "# Task\n",
        "\n"
      ]
    },
    {
      "cell_type": "markdown",
      "metadata": {
        "id": "qj0YPzje2g4u",
        "colab_type": "text"
      },
      "source": [
        "Students should do this by themselves"
      ]
    },
    {
      "cell_type": "markdown",
      "metadata": {
        "id": "qAQJJBKviLmQ",
        "colab_type": "text"
      },
      "source": [
        "This task, you need to show shapes.jpg, filter four colors, detect objects and draw it contours by using the same method as tutorial. "
      ]
    },
    {
      "cell_type": "code",
      "metadata": {
        "id": "D92CO_6OSRsD",
        "colab_type": "code",
        "colab": {}
      },
      "source": [
        "img = cv2.imread('/content/drive/My Drive/opencv_photo/shapes.jpg')\n",
        "cv2_imshow(img)"
      ],
      "execution_count": null,
      "outputs": []
    },
    {
      "cell_type": "code",
      "metadata": {
        "id": "tFViX3ORCVE7",
        "colab_type": "code",
        "colab": {}
      },
      "source": [
        "img = cv2.imread('/content/drive/My Drive/opencv_photo/shapes.jpg')\n",
        "hsv = cv2.cvtColor(img, cv2.COLOR_BGR2HSV)\n",
        "\n",
        "# green\n",
        "lower = np.array([52, 135, 55])\n",
        "upper = np.array([85, 255, 255])\n",
        "mask_green = cv2.inRange(hsv,lower,upper)\n",
        "\n",
        "# blue\n",
        "lower = np.array([89,100,50])\n",
        "upper = np.array([150,255,255])\n",
        "mask_blue = cv2.inRange(hsv,lower,upper)\n",
        "\n",
        "# Yellow\n",
        "lower = np.array([21, 39, 64])\n",
        "upper = np.array([40, 255, 255])\n",
        "mask_yellow = cv2.inRange(hsv,lower,upper)\n",
        "\n",
        "# red\n",
        "lower = np.array([0, 150, 180])\n",
        "upper = np.array([180, 255, 255])\n",
        "mask_red = cv2.inRange(hsv,lower,upper)\n",
        "\n",
        "mask = mask_red + mask_yellow + mask_blue + mask_green\n",
        "\n",
        "#mask = mask_green \n",
        "\n",
        "mask_result = cv2.bitwise_and (img, img, mask=mask)\n",
        "cv2_imshow(mask_result)"
      ],
      "execution_count": null,
      "outputs": []
    },
    {
      "cell_type": "code",
      "metadata": {
        "id": "WPqFUj8HUVTe",
        "colab_type": "code",
        "colab": {}
      },
      "source": [
        "( contours,_) = cv2.findContours(mask, cv2.RETR_TREE, cv2.CHAIN_APPROX_NONE)\n",
        "cv2.drawContours(img,contours,-1,(0,0,155),3)\n",
        "\n",
        "cv2_imshow(img)"
      ],
      "execution_count": null,
      "outputs": []
    },
    {
      "cell_type": "code",
      "metadata": {
        "id": "QXVynUpkMo9N",
        "colab_type": "code",
        "colab": {}
      },
      "source": [
        "for cnt in contours:\n",
        "\n",
        "  epsilon = 0.04 * cv2.arcLength(cnt, True)\n",
        "  app = cv2.approxPolyDP(cnt, epsilon, True)\n",
        "\n",
        "  if(len(app) == 3):\n",
        "    obj_shape = \"triangle\"\n",
        "  elif(len(app) == 4):\n",
        "    obj_shape = \"square\"\n",
        "  elif(len(app) == 5):\n",
        "    obj_shape = \"Pentagon\"\n",
        "  elif(len(app) == 6):\n",
        "    obj_shape = \"Hexagon\"\n",
        "  else:\n",
        "    obj_shape = \"circle\"\n",
        "\n",
        "  font = cv2.FONT_HERSHEY_SIMPLEX\n",
        "  x_str, y_str = app[0][0]\n",
        "  if obj_shape == \"triangle\":\n",
        "    cv2.putText(img, obj_shape, (x_str, y_str), font, 1,\n",
        "                        (0, 0, 0), 2, cv2.LINE_AA)\n",
        "  elif obj_shape == \"square\":\n",
        "    cv2.putText(img, obj_shape, (x_str, y_str), font, 1,\n",
        "                        (0, 0, 0), 2, cv2.LINE_AA)\n",
        "  elif obj_shape == \"Pentagon\":\n",
        "    cv2.putText(img, obj_shape, (x_str, y_str), font, 1,\n",
        "                        (0, 0, 0), 2, cv2.LINE_AA)\n",
        "  elif obj_shape == \"Hexagon\":\n",
        "    cv2.putText(img, obj_shape, (x_str, y_str), font, 1,\n",
        "                        (0, 0, 0), 2, cv2.LINE_AA)\n",
        "  elif obj_shape == \"circle\":\n",
        "    cv2.putText(img, obj_shape, (x_str, y_str), font, 1,\n",
        "                        (0, 0, 0), 2, cv2.LINE_AA)\n",
        "cv2_imshow(img)"
      ],
      "execution_count": null,
      "outputs": []
    }
  ]
}